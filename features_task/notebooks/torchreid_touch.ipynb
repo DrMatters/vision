{
 "cells": [
  {
   "cell_type": "code",
   "execution_count": null,
   "metadata": {},
   "outputs": [],
   "source": [
    "import pandas as pd\n",
    "import os"
   ]
  },
  {
   "cell_type": "code",
   "execution_count": null,
   "metadata": {},
   "outputs": [],
   "source": [
    "DATA_FOLDER = '/Users/DrMatters/Documents/git/vision/data/datasets/market1501/Market-1501-v15.09.15/'"
   ]
  },
  {
   "cell_type": "code",
   "execution_count": null,
   "metadata": {},
   "outputs": [],
   "source": [
    "def get_filenames_in_current(folder):\n",
    "    walk = os.walk(folder)\n",
    "    for current_catalog, subcatalogs, files in walk:\n",
    "        if current_catalog == folder:\n",
    "            return sorted(files)"
   ]
  },
  {
   "cell_type": "code",
   "execution_count": null,
   "metadata": {},
   "outputs": [],
   "source": [
    "res = pd.Series(get_filenames_in_current(DATA_FOLDER + 'bounding_box_test'))\n",
    "res = res[res.str.endswith('jpg')]\n",
    "res_df = res.str.split('_', expand=True, n = 2)\n",
    "res_df = res_df.iloc[:, :1]\n",
    "res_df = res_df.rename(columns={0: 'pers_id', 1: 'env_descr', 2: 'orig_id'})\n",
    "res_df['filename'] = res\n",
    "res_df.head()"
   ]
  },
  {
   "cell_type": "code",
   "execution_count": null,
   "metadata": {},
   "outputs": [],
   "source": [
    "import torchreid\n",
    "\n",
    "data_manager = torchreid.data.ImageDataManager(\n",
    "    root='/Users/DrMatters/Documents/git/vision/data/datasets/',\n",
    "    sources='market1501',\n",
    "    targets='market1501',\n",
    "    height=256,\n",
    "    width=128,\n",
    "    batch_size_train=32,\n",
    "    batch_size_test=100,\n",
    "    transforms=['random_flip'],\n",
    ")\n",
    "dataloaders = data_manager.return_dataloaders()"
   ]
  },
  {
   "cell_type": "code",
   "execution_count": null,
   "metadata": {},
   "outputs": [],
   "source": [
    "next(enumerate(dataloaders[1]['market1501']['gallery']))"
   ]
  },
  {
   "cell_type": "code",
   "execution_count": null,
   "metadata": {},
   "outputs": [],
   "source": [
    "dataloader = dataloaders[0]"
   ]
  },
  {
   "cell_type": "code",
   "execution_count": null,
   "metadata": {},
   "outputs": [],
   "source": [
    "for i, batch in enumerate(dataloader):\n",
    "    if i > 2:\n",
    "        break\n",
    "    print(f'i = {i}\\n batch={batch}')"
   ]
  },
  {
   "cell_type": "code",
   "execution_count": null,
   "metadata": {},
   "outputs": [],
   "source": []
  }
 ],
 "metadata": {
  "kernelspec": {
   "display_name": "cv",
   "language": "python",
   "name": "cv"
  },
  "language_info": {
   "codemirror_mode": {
    "name": "ipython",
    "version": 3
   },
   "file_extension": ".py",
   "mimetype": "text/x-python",
   "name": "python",
   "nbconvert_exporter": "python",
   "pygments_lexer": "ipython3",
   "version": "3.7.5"
  }
 },
 "nbformat": 4,
 "nbformat_minor": 2
}
