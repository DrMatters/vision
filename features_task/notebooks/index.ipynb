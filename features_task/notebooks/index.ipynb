{
 "cells": [
  {
   "cell_type": "code",
   "execution_count": null,
   "metadata": {},
   "outputs": [],
   "source": [
    "import cv2\n",
    "import pandas as pd\n",
    "import os\n",
    "from torch.utils import data"
   ]
  },
  {
   "cell_type": "code",
   "execution_count": null,
   "metadata": {},
   "outputs": [],
   "source": [
    "DATASET_FOLDER = '/Users/DrMatters/Documents/git/vision/data/datasets/market1501/Market-1501-v15.09.15/'"
   ]
  },
  {
   "cell_type": "code",
   "execution_count": null,
   "metadata": {},
   "outputs": [],
   "source": [
    "import os\n",
    "from typing import FrozenSet\n",
    "\n",
    "import albumentations as albu\n",
    "import pandas as pd\n",
    "from torch.utils import data\n",
    "\n",
    "\n",
    "class MarketDataset(data.Dataset):\n",
    "    REQUIRED_COLUMNS: FrozenSet[str] = frozenset({'filename', 'pers_id'})\n",
    "\n",
    "    def __init__(self, folder: str, index_df: pd.DataFrame = None,\n",
    "                 transforms=albu.Compose([albu.HorizontalFlip()]),\n",
    "                 preprocessing=None):\n",
    "        assert set(index_df.columns).issubset(self.REQUIRED_COLUMNS), \\\n",
    "            ('Required columns are not present in dataframe. Expected:'\n",
    "             f' {self.REQUIRED_COLUMNS}. Got: {set(index_df.columns)}')\n",
    "        self.folder = folder\n",
    "        self.index_df = index_df\n",
    "        self.transforms = transforms\n",
    "        self.preprocessing = preprocessing\n",
    "\n",
    "    def __getitem__(self, idx):\n",
    "        row = self.index_df.loc[idx, :]\n",
    "        filename = row['filename']\n",
    "        person_id = row['pers_id']\n",
    "\n",
    "        full_path = os.path.join(self.folder, filename)\n",
    "\n",
    "        img = cv2.imread(full_path)\n",
    "        img = cv2.cvtColor(img, cv2.COLOR_BGR2RGB)\n",
    "        augmented = self.transforms(image=img)\n",
    "        img = augmented['image']\n",
    "        if self.preprocessing:\n",
    "            preprocessed = self.preprocessing(image=img)\n",
    "            img = preprocessed['image']\n",
    "        return img, person_id\n",
    "\n",
    "    def __len__(self):\n",
    "        return len(self.index_df)\n"
   ]
  },
  {
   "cell_type": "code",
   "execution_count": null,
   "metadata": {},
   "outputs": [],
   "source": [
    "def identity_collate(data):\n",
    "    return data\n",
    "\n",
    "def get_filenames_in_current(folder: str):\n",
    "    walk = os.walk(folder)\n",
    "    for current_catalog, sub_catalogs, files in walk:\n",
    "        if current_catalog == folder:\n",
    "            return sorted(files)\n",
    "\n",
    "def create_index_df(folder: str):\n",
    "    filenames = pd.Series(get_filenames_in_current(folder))\n",
    "    filenames = filenames[filenames.str.endswith('jpg')]\n",
    "    index_df = filenames.str.split('_', expand=True, n=2)\n",
    "    index_df = index_df.iloc[:, :1]\n",
    "    index_df = index_df.rename(columns={\n",
    "        0: 'pers_id', 1: 'env_descr',\n",
    "        2: 'orig_id'\n",
    "    })\n",
    "    index_df['filename'] = filenames\n",
    "\n",
    "    return index_df"
   ]
  },
  {
   "cell_type": "code",
   "execution_count": null,
   "metadata": {},
   "outputs": [],
   "source": [
    "index_df = create_index_df(DATASET_FOLDER + 'bounding_box_test')\n",
    "index_df.head()"
   ]
  },
  {
   "cell_type": "code",
   "execution_count": null,
   "metadata": {},
   "outputs": [],
   "source": [
    "ds = MarketDataset(DATASET_FOLDER + 'bounding_box_test', index_df)"
   ]
  },
  {
   "cell_type": "code",
   "execution_count": null,
   "metadata": {},
   "outputs": [],
   "source": [
    "ld = data.DataLoader(ds, drop_last=True, collate_fn=identity_collate)"
   ]
  },
  {
   "cell_type": "code",
   "execution_count": null,
   "metadata": {},
   "outputs": [],
   "source": [
    "for i, img in enumerate(ld):\n",
    "    print(img[0][0].shape)\n",
    "    if i == 0:\n",
    "        break"
   ]
  },
  {
   "cell_type": "code",
   "execution_count": null,
   "metadata": {},
   "outputs": [],
   "source": []
  }
 ],
 "metadata": {
  "kernelspec": {
   "display_name": "cv",
   "language": "python",
   "name": "cv"
  },
  "language_info": {
   "codemirror_mode": {
    "name": "ipython",
    "version": 3
   },
   "file_extension": ".py",
   "mimetype": "text/x-python",
   "name": "python",
   "nbconvert_exporter": "python",
   "pygments_lexer": "ipython3",
   "version": "3.7.5"
  }
 },
 "nbformat": 4,
 "nbformat_minor": 2
}
