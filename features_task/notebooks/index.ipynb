{
 "cells": [
  {
   "cell_type": "code",
   "execution_count": 26,
   "metadata": {},
   "outputs": [],
   "source": [
    "import cv2\n",
    "import pandas as pd\n",
    "import os\n",
    "from torch.utils import data"
   ]
  },
  {
   "cell_type": "code",
   "execution_count": 2,
   "metadata": {},
   "outputs": [],
   "source": [
    "DATASET_FOLDER = '/Users/DrMatters/Documents/git/vision/data/datasets/market1501/Market-1501-v15.09.15/'"
   ]
  },
  {
   "cell_type": "code",
   "execution_count": 16,
   "metadata": {},
   "outputs": [],
   "source": [
    "import os\n",
    "from typing import FrozenSet\n",
    "\n",
    "import albumentations as albu\n",
    "import pandas as pd\n",
    "from torch.utils import data\n",
    "\n",
    "\n",
    "class MarketDataset(data.Dataset):\n",
    "    REQUIRED_COLUMNS: FrozenSet[str] = frozenset({'filename', 'pers_id'})\n",
    "\n",
    "    def __init__(self, folder: str, index_df: pd.DataFrame = None,\n",
    "                 transforms=albu.Compose([albu.HorizontalFlip()]),\n",
    "                 preprocessing=None):\n",
    "        assert set(index_df.columns).issubset(self.REQUIRED_COLUMNS), \\\n",
    "            ('Required columns are not present in dataframe. Expected:'\n",
    "             f' {self.REQUIRED_COLUMNS}. Got: {set(index_df.columns)}')\n",
    "        self.folder = folder\n",
    "        self.index_df = index_df\n",
    "        self.transforms = transforms\n",
    "        self.preprocessing = preprocessing\n",
    "\n",
    "    def __getitem__(self, idx):\n",
    "        row = self.index_df.loc[idx, :]\n",
    "        filename = row['filename']\n",
    "        person_id = row['pers_id']\n",
    "\n",
    "        full_path = os.path.join(self.folder, filename)\n",
    "\n",
    "        img = cv2.imread(full_path)\n",
    "        img = cv2.cvtColor(img, cv2.COLOR_BGR2RGB)\n",
    "        augmented = self.transforms(image=img)\n",
    "        img = augmented['image']\n",
    "        if self.preprocessing:\n",
    "            preprocessed = self.preprocessing(image=img)\n",
    "            img = preprocessed['image']\n",
    "        return img, person_id\n",
    "\n",
    "    def __len__(self):\n",
    "        return len(self.index_df)\n"
   ]
  },
  {
   "cell_type": "code",
   "execution_count": 17,
   "metadata": {},
   "outputs": [],
   "source": [
    "def get_filenames_in_current(folder: str):\n",
    "    walk = os.walk(folder)\n",
    "    for current_catalog, sub_catalogs, files in walk:\n",
    "        if current_catalog == folder:\n",
    "            return sorted(files)\n",
    "\n",
    "def create_index_df(folder: str):\n",
    "    filenames = pd.Series(get_filenames_in_current(folder))\n",
    "    filenames = filenames[filenames.str.endswith('jpg')]\n",
    "    index_df = filenames.str.split('_', expand=True, n=2)\n",
    "    index_df = index_df.iloc[:, :1]\n",
    "    index_df = index_df.rename(columns={\n",
    "        0: 'pers_id', 1: 'env_descr',\n",
    "        2: 'orig_id'\n",
    "    })\n",
    "    index_df['filename'] = filenames\n",
    "\n",
    "    return index_df"
   ]
  },
  {
   "cell_type": "code",
   "execution_count": 18,
   "metadata": {},
   "outputs": [
    {
     "data": {
      "text/html": [
       "<div>\n",
       "<style scoped>\n",
       "    .dataframe tbody tr th:only-of-type {\n",
       "        vertical-align: middle;\n",
       "    }\n",
       "\n",
       "    .dataframe tbody tr th {\n",
       "        vertical-align: top;\n",
       "    }\n",
       "\n",
       "    .dataframe thead th {\n",
       "        text-align: right;\n",
       "    }\n",
       "</style>\n",
       "<table border=\"1\" class=\"dataframe\">\n",
       "  <thead>\n",
       "    <tr style=\"text-align: right;\">\n",
       "      <th></th>\n",
       "      <th>pers_id</th>\n",
       "      <th>filename</th>\n",
       "    </tr>\n",
       "  </thead>\n",
       "  <tbody>\n",
       "    <tr>\n",
       "      <th>0</th>\n",
       "      <td>-1</td>\n",
       "      <td>-1_c1s1_000401_03.jpg</td>\n",
       "    </tr>\n",
       "    <tr>\n",
       "      <th>1</th>\n",
       "      <td>-1</td>\n",
       "      <td>-1_c1s1_000451_04.jpg</td>\n",
       "    </tr>\n",
       "    <tr>\n",
       "      <th>2</th>\n",
       "      <td>-1</td>\n",
       "      <td>-1_c1s1_001351_04.jpg</td>\n",
       "    </tr>\n",
       "    <tr>\n",
       "      <th>3</th>\n",
       "      <td>-1</td>\n",
       "      <td>-1_c1s1_001376_05.jpg</td>\n",
       "    </tr>\n",
       "    <tr>\n",
       "      <th>4</th>\n",
       "      <td>-1</td>\n",
       "      <td>-1_c1s1_011251_02.jpg</td>\n",
       "    </tr>\n",
       "  </tbody>\n",
       "</table>\n",
       "</div>"
      ],
      "text/plain": [
       "  pers_id               filename\n",
       "0      -1  -1_c1s1_000401_03.jpg\n",
       "1      -1  -1_c1s1_000451_04.jpg\n",
       "2      -1  -1_c1s1_001351_04.jpg\n",
       "3      -1  -1_c1s1_001376_05.jpg\n",
       "4      -1  -1_c1s1_011251_02.jpg"
      ]
     },
     "execution_count": 18,
     "metadata": {},
     "output_type": "execute_result"
    }
   ],
   "source": [
    "index_df = create_index_df(DATASET_FOLDER + 'bounding_box_test')\n",
    "index_df.head()"
   ]
  },
  {
   "cell_type": "code",
   "execution_count": 41,
   "metadata": {},
   "outputs": [],
   "source": [
    "ds = MarketDataset(DATASET_FOLDER + 'bounding_box_test', index_df)"
   ]
  },
  {
   "cell_type": "code",
   "execution_count": 42,
   "metadata": {},
   "outputs": [],
   "source": [
    "ld = data.DataLoader(ds, drop_last=True)"
   ]
  },
  {
   "cell_type": "code",
   "execution_count": 50,
   "metadata": {},
   "outputs": [
    {
     "data": {
      "text/plain": [
       "(128, 64, 3)"
      ]
     },
     "execution_count": 50,
     "metadata": {},
     "output_type": "execute_result"
    }
   ],
   "source": [
    "next(enumerate(ld))[1][0].numpy().squeeze().shape"
   ]
  },
  {
   "cell_type": "code",
   "execution_count": null,
   "metadata": {},
   "outputs": [],
   "source": []
  }
 ],
 "metadata": {
  "kernelspec": {
   "display_name": "cv",
   "language": "python",
   "name": "cv"
  },
  "language_info": {
   "codemirror_mode": {
    "name": "ipython",
    "version": 3
   },
   "file_extension": ".py",
   "mimetype": "text/x-python",
   "name": "python",
   "nbconvert_exporter": "python",
   "pygments_lexer": "ipython3",
   "version": "3.7.5"
  }
 },
 "nbformat": 4,
 "nbformat_minor": 2
}
